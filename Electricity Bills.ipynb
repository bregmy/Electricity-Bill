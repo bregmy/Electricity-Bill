{
 "cells": [
  {
   "cell_type": "code",
   "execution_count": 3,
   "metadata": {},
   "outputs": [
    {
     "data": {
      "text/plain": [
       "9805.0"
      ]
     },
     "execution_count": 3,
     "metadata": {},
     "output_type": "execute_result"
    }
   ],
   "source": [
    "def electricity_bill(units):\n",
    "  meter_charge = 15\n",
    "  if(units<=100):\n",
    "    answer1=(((10/100)*(units*1))+(units*1)+meter_charge)\n",
    "    return round(answer1+0.004,2)\n",
    "  elif (units>100 and units<=200):\n",
    "    return round(((0.1)*(100*1+(units-100)*2)+(100*1+(units-100)*2)+meter_charge)+0.004,2)\n",
    "  elif(units>200 and units<=300):\n",
    "    answer3=((((10/100)*((100*1)+(100*2)+((units-200)*3)))+(100*1)+(100*2)+((units-200)*3)+meter_charge))\n",
    "    return round(answer3+0.004,2)\n",
    "  elif (units>300 and units<=500):\n",
    "    answer4=(((10/100)*((100*1)+(100*2)+(100*3)+((units-300)*4)))+(100*1)+(100*2)+(100*3)+((units-300)*4)+meter_charge)\n",
    "    return round(answer4+0.004,2)\n",
    "  else:\n",
    "    answer5=(((10/100)*((100*1)+(100*2)+(100*3)+((200)*4)+(units-500)*5))+(100*1)+(100*2)+(100*3)+(200*4)+((units-500)*5)+meter_charge)\n",
    "    return round(answer5+0.004,2)\n",
    "electricity_bill(2000)"
   ]
  },
  {
   "cell_type": "code",
   "execution_count": null,
   "metadata": {},
   "outputs": [],
   "source": []
  }
 ],
 "metadata": {
  "kernelspec": {
   "display_name": "Python 3",
   "language": "python",
   "name": "python3"
  },
  "language_info": {
   "codemirror_mode": {
    "name": "ipython",
    "version": 3
   },
   "file_extension": ".py",
   "mimetype": "text/x-python",
   "name": "python",
   "nbconvert_exporter": "python",
   "pygments_lexer": "ipython3",
   "version": "3.8.5"
  }
 },
 "nbformat": 4,
 "nbformat_minor": 4
}
